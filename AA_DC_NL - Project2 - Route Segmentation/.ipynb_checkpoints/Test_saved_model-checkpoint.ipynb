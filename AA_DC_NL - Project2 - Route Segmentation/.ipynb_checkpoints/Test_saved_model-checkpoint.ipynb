{
 "cells": [
  {
   "cell_type": "markdown",
   "metadata": {},
   "source": [
    "# Import Model"
   ]
  },
  {
   "cell_type": "code",
   "execution_count": null,
   "metadata": {},
   "outputs": [],
   "source": [
    "from keras.models import load_model\n",
    "from theano import ifelse\n",
    "model = load_model('Models/best.h5') #specify path to model"
   ]
  },
  {
   "cell_type": "code",
   "execution_count": null,
   "metadata": {},
   "outputs": [],
   "source": [
    "import os\n",
    "import matplotlib.image as mplimg\n",
    "import numpy as np\n",
    "from pathlib import Path\n",
    "import matplotlib.pyplot as plt\n",
    "\n",
    "window_size = 50\n",
    "patch_size = 16\n",
    "padding = int((window_size - patch_size)/2)"
   ]
  },
  {
   "cell_type": "markdown",
   "metadata": {},
   "source": [
    "# Test"
   ]
  },
  {
   "cell_type": "code",
   "execution_count": null,
   "metadata": {
    "code_folding": [
     0
    ]
   },
   "outputs": [],
   "source": [
    "def Test(model,ws,ps,padding):\n",
    "    \"\"\"Test the model with testing data\"\"\"\n",
    "    def load_test_images():\n",
    "        test_dir = \"test_set_images/\"\n",
    "        files = os.listdir(test_dir)\n",
    "        n = len(files)-1\n",
    "        print(\"Loading \" + str(n) + \" images\")\n",
    "        test_img=[]\n",
    "        for i in range(n):\n",
    "            cd=test_dir+\"test_\"+str(i+1)+\"/\"\n",
    "            im = mplimg.imread(cd + os.listdir(cd)[0])\n",
    "            test_img.append(im)\n",
    "        test_img = np.asarray(test_img)\n",
    "        return test_img\n",
    "    \n",
    "    Test = load_test_images()\n",
    "    print(Test.shape)\n",
    "    \n",
    "    def extract_patches(test_img):\n",
    "        Test_patches = np.empty((72200,ws,ws,3))\n",
    "        imgs_id=[]\n",
    "        \n",
    "        def img_crop(im, w, h, l):\n",
    "            list_patches = np.empty((1444,ws,ws,3))\n",
    "            img_id=[]\n",
    "            imgwidth = im.shape[0]\n",
    "            imgheight = im.shape[1]\n",
    "            for i in range(0,imgheight-2*padding,h):\n",
    "                for j in range(0,imgwidth-2*padding,w):\n",
    "                    im_patch = im[j:(j+w+2*padding), i:i+h+2*padding, :]\n",
    "                    list_patches[int((i/h)*38+(j/w)),...]=im_patch\n",
    "                    if (l<9):\n",
    "                        img_id.append(\"00\"+str(l+1)+\"_\"+str(i)+\"_\"+str(j))\n",
    "                    else: img_id.append(\"0\"+str(l+1)+\"_\"+str(i)+\"_\"+str(j))\n",
    "            return np.asarray(list_patches), img_id\n",
    "        \n",
    "        def pad_img(img,p):\n",
    "            image=np.pad(img,((p,p),(p,p),(0,0)),'edge')\n",
    "            return image\n",
    "        \n",
    "        for k in range(test_img.shape[0]):\n",
    "            image = test_img[k]\n",
    "            img = pad_img(image,int(padding))\n",
    "            img_patches, img_id=img_crop(img,ps,ps,k)\n",
    "            Test_patches[int(k*1444):int((k+1)*1444),...] = img_patches\n",
    "            imgs_id = np.append(imgs_id,img_id)\n",
    "        Test_patches = np.asarray(Test_patches)\n",
    "        print(\"Test_patches size\")\n",
    "        print(Test_patches.shape)\n",
    "        print(\"imgs_id length\")\n",
    "        print(len(imgs_id))\n",
    "        return Test_patches,imgs_id\n",
    "            \n",
    "    Test_patches,img_id = extract_patches(Test)\n",
    "    Z = model.predict(Test_patches, verbose=1)\n",
    "    \n",
    "    Z=(Z[:,0]>Z[:,1])*1\n",
    "    \n",
    "    return Z,img_id,Test"
   ]
  },
  {
   "cell_type": "code",
   "execution_count": null,
   "metadata": {},
   "outputs": [],
   "source": [
    "pred,img_id, Test_imgs=Test(model,window_size,patch_size,padding)"
   ]
  },
  {
   "cell_type": "markdown",
   "metadata": {},
   "source": [
    "# Visualize prediction"
   ]
  },
  {
   "cell_type": "code",
   "execution_count": null,
   "metadata": {
    "code_folding": [
     0
    ]
   },
   "outputs": [],
   "source": [
    "def visualize_prediction(predictions, Test, path):\n",
    "        my_file=Path(path)\n",
    "        if not my_file.is_dir(): #check if directory already exists\n",
    "            print(my_file.is_dir())\n",
    "            os.makedirs(path) #creates directory if it does not exist\n",
    "        for k in range(Test.shape[0]):\n",
    "            gt_values = predictions[k*1444:(k+1)*1444]\n",
    "            gt_test = np.empty((38,38))\n",
    "            for i in range(38):\n",
    "                for j in range(38):\n",
    "                    gt_test[j,i] = gt_values[i*38+j]\n",
    "            gt_test=np.asarray(gt_test)\n",
    "            fig = plt.figure(figsize=(10,10))\n",
    "            plt.imshow(Test[k],extent=(0,608,0,608))\n",
    "            plt.imshow(gt_test,cmap='gray_r',alpha=0.4,extent=(0,608,0,608))\n",
    "            plt.show()\n",
    "            \n",
    "            #Save image in folder\n",
    "            image_name = path + \"prediction_image_\" + str(k)\n",
    "            fig.savefig(image_name)"
   ]
  },
  {
   "cell_type": "code",
   "execution_count": null,
   "metadata": {},
   "outputs": [],
   "source": [
    "visualize_prediction(pred,Test_imgs,\"prediction_loaded/\")"
   ]
  },
  {
   "cell_type": "markdown",
   "metadata": {},
   "source": [
    "# Morphological post-processing"
   ]
  },
  {
   "cell_type": "code",
   "execution_count": null,
   "metadata": {
    "code_folding": [
     3
    ]
   },
   "outputs": [],
   "source": [
    "import cv2 as cv2\n",
    "from PIL import Image\n",
    "\n",
    "def postProcessingMorphological(predictions, window_size_pp, doOpenning, doClosing):\n",
    "\n",
    "    postprocpred = np.empty(predictions.shape)\n",
    "\n",
    "    for k in range(50): #there are 50 windows in each picture\n",
    "        gt_values = predictions[k*1444:(k+1)*1444]\n",
    "        gt_test = np.empty((38,38))\n",
    "        for i in range(38):\n",
    "            for j in range(38):\n",
    "                gt_test[j,i] = gt_values[i*38+j]\n",
    "\n",
    "        arr = gt_test\n",
    "        arr = np.asarray(arr, dtype=np.uint8)\n",
    "\n",
    "        im = Image.fromarray(arr, mode='L')\n",
    "        im.save('image'+str(k)+'.png')\n",
    "        img = cv2.imread('image'+str(k)+'.png',0)\n",
    "        os.remove('image'+str(k)+'.png')\n",
    "        \n",
    "        output = []\n",
    "        \n",
    "        #USER CAN CHOSE BETWEEN CROSS AND SQUARE STRUCTURING ELEMENT\n",
    "        #kernel = np.ones((window_size_pp, window_size_pp),np.uint8) #structuring element: square\n",
    "        kernel = cv2.getStructuringElement(cv2.MORPH_CROSS,(window_size_pp,window_size_pp)) #structuring element: square\n",
    "\n",
    "        if(doOpenning and doClosing):\n",
    "            opening = cv2.morphologyEx(img, cv2.MORPH_OPEN, kernel)\n",
    "            output = cv2.morphologyEx(opening, cv2.MORPH_CLOSE, kernel)\n",
    "        elif (doOpenning):\n",
    "            output = cv2.morphologyEx(img, cv2.MORPH_OPEN, kernel)\n",
    "        elif (doClosing):\n",
    "            output = cv2.morphologyEx(img, cv2.MORPH_CLOSE, kernel)\n",
    "\n",
    "        gt_values = np.empty(gt_values.shape)\n",
    "\n",
    "        for i in range(38):\n",
    "            for j in range(38):\n",
    "                gt_values[i*38+j] = output[j,i]\n",
    "\n",
    "        postprocpred[k*1444:(k+1)*1444]=gt_values\n",
    "\n",
    "    return postprocpred"
   ]
  },
  {
   "cell_type": "code",
   "execution_count": null,
   "metadata": {},
   "outputs": [],
   "source": [
    "window_size_pp = 3\n",
    "pred_pp_5 = postProcessingMorphological(pred, window_size_pp, True, False)\n",
    "visualize_prediction(pred_pp_5,Test_imgs,\"prediction_images_with_pp_square\" + str(window_size_pp) + \"/\") #Enables to see the image with image processsing "
   ]
  },
  {
   "cell_type": "markdown",
   "metadata": {},
   "source": [
    "# Neighborhood based post-processing"
   ]
  },
  {
   "cell_type": "code",
   "execution_count": null,
   "metadata": {},
   "outputs": [],
   "source": [
    "pred1=pred #duplicate predictions to use by reference without modifying original\n",
    "pred1[pred1==0].shape"
   ]
  },
  {
   "cell_type": "code",
   "execution_count": null,
   "metadata": {
    "code_folding": [
     0
    ]
   },
   "outputs": [],
   "source": [
    "def neighbors_processing(prediction):\n",
    "    ngbpred = prediction\n",
    "    for k in range(50):\n",
    "        print(k)\n",
    "        gt_values = prediction[k*1444:(k+1)*1444]\n",
    "        img1 = np.empty((38,38))\n",
    "        for i in range(38):\n",
    "            img1[:,i]=gt_values[i*38:(i+1)*38]\n",
    "        img1=np.asarray(img1)\n",
    "        fig = plt.figure(figsize=(3,3))\n",
    "        plt.imshow(img1,cmap='gray_r',alpha=0.4,extent=(0,608,0,608))\n",
    "        plt.show()\n",
    "        changed1 = 1\n",
    "\n",
    "        while(changed1!=0):\n",
    "            changed1=0\n",
    "            for n in range(1,37): #test pixel inside (1:36)\n",
    "                for m in range(1,37):\n",
    "                    count=img1[n-1,m]+img1[n+1,m]+img1[n,m-1]+img1[n,m+1]\n",
    "                    if ((count<=1 or (img1[n-1,m]==0 and img1[n+1,m]==0) or (img1[n,m-1]==0 and img1[n,m+1]==0)) and img1[n,m]==1): #if 3 or more road neighbors or two opposite neighbors, make road\n",
    "                        img1[n,m] = 0\n",
    "                        prediction[k*1444+38*m+n] = 0\n",
    "                        changed1 += 1\n",
    "                    elif(count==4 and img1[n,m]==0): #if 4 neighbors non-road, make non-road\n",
    "                        img1[n,m] = 1\n",
    "                        prediction[k*1444+38*m+n] = 1\n",
    "                        changed1 += 1\n",
    "\n",
    "            for i in range(1,37): #test on border (0&37)\n",
    "                count1=img1[n-1,0]+img1[n+1,0] + img1[n,1]    \n",
    "                count2=img1[n-1,37]+img1[n+1,37] + img1[n,36]\n",
    "                count3=img1[0,n-1]+img1[0,n+1] + img1[1,n]\n",
    "                count4=img1[37,n-1]+img1[37,n+1] + img1[36,n]\n",
    "                if((count1<=1 or (img1[n-1,0]==0 and img1[n+1,0]==0)) and img1[n,0]==1): # if 2 or more road neighbors, make road\n",
    "                    img1[n,0]=0\n",
    "                    prediction[k*1444+n] = 0\n",
    "                    changed1 += 1\n",
    "                if(count1==3 and img1[n,0]==0): # if 3 neighbors non-road, make non-road\n",
    "                    img1[n,0]=1\n",
    "                    prediction[k*1444+n] = 1\n",
    "                    changed1 +=1\n",
    "                if((count2<=1 or (img1[n-1,37]==0 and img1[n+1,37]==0)) and img1[n,37]==1):\n",
    "                    img1[n,37]=0\n",
    "                    prediction[k*1444+38*37+n] = 0\n",
    "                    changed1 +=1\n",
    "                if(count2==3 and img1[n,37]==0):\n",
    "                    img1[n,37]=1\n",
    "                    prediction[k*1444+38*37+n] = 1\n",
    "                    changed1 +=1\n",
    "                if((count3<=1 or (img1[0,n-1]==0 and img1[0,n+1]==0)) and img1[0,n]==1):\n",
    "                    img1[0,n]=0\n",
    "                    prediction[k*1444+38*n] = 0\n",
    "                    changed1 +=1\n",
    "                if(count3==3 and img1[0,n]==0):\n",
    "                    img1[0,n]=1\n",
    "                    prediction[k*1444+38*n] = 1\n",
    "                    changed1 +=1\n",
    "                if((count4<=1 or (img1[37,n-1]==0 and img1[37,n+1]==0)) and img1[37,n]==1):\n",
    "                    img1[37,n]=0\n",
    "                    prediction[k*1444+38*n+37] = 0\n",
    "                    changed1 +=1\n",
    "                if(count4==3 and img1[37,n]==0):\n",
    "                    img1[37,n]=1\n",
    "                    prediction[k*1444+38*n+37] = 1\n",
    "                    changed1 +=1\n",
    "                    \n",
    "            fig = plt.figure(figsize=(2,2))        \n",
    "            plt.imshow(img1,cmap='gray_r',alpha=0.4,extent=(0,38,0,38))\n",
    "            plt.show()"
   ]
  },
  {
   "cell_type": "code",
   "execution_count": null,
   "metadata": {},
   "outputs": [],
   "source": [
    "neighbors_processing(pred1)#pred_postproc = neighbors_processing(pred1)"
   ]
  },
  {
   "cell_type": "markdown",
   "metadata": {},
   "source": [
    "# Submit predictions"
   ]
  },
  {
   "cell_type": "code",
   "execution_count": null,
   "metadata": {
    "code_folding": [
     0
    ]
   },
   "outputs": [],
   "source": [
    "def create_submission(predictions, ids, submission_filename):\n",
    "\n",
    "    my_file=Path(submission_filename)\n",
    "    if my_file.is_file():\n",
    "        os.remove(submission_filename)\n",
    "    with open(submission_filename, 'w') as f:\n",
    "        f.write('id,prediction\\n')\n",
    "        for k in range(len(ids)):\n",
    "            f.writelines(ids[k]+','+str(int(predictions[k]))+'\\n')  "
   ]
  },
  {
   "cell_type": "code",
   "execution_count": null,
   "metadata": {},
   "outputs": [],
   "source": [
    "create_submission(1-pred1,img_id,\"ngb_predv2.csv\")"
   ]
  },
  {
   "cell_type": "code",
   "execution_count": null,
   "metadata": {},
   "outputs": [],
   "source": [
    "visualize_prediction(pred1,Test_imgs,\"to_delete\") #Enables to see the image with image processsing "
   ]
  }
 ],
 "metadata": {
  "kernelspec": {
   "display_name": "Python 3",
   "language": "python",
   "name": "python3"
  },
  "language_info": {
   "codemirror_mode": {
    "name": "ipython",
    "version": 3
   },
   "file_extension": ".py",
   "mimetype": "text/x-python",
   "name": "python",
   "nbconvert_exporter": "python",
   "pygments_lexer": "ipython3",
   "version": "3.6.1"
  },
  "varInspector": {
   "cols": {
    "lenName": 16,
    "lenType": 16,
    "lenVar": 40
   },
   "kernels_config": {
    "python": {
     "delete_cmd_postfix": "",
     "delete_cmd_prefix": "del ",
     "library": "var_list.py",
     "varRefreshCmd": "print(var_dic_list())"
    },
    "r": {
     "delete_cmd_postfix": ") ",
     "delete_cmd_prefix": "rm(",
     "library": "var_list.r",
     "varRefreshCmd": "cat(var_dic_list()) "
    }
   },
   "types_to_exclude": [
    "module",
    "function",
    "builtin_function_or_method",
    "instance",
    "_Feature"
   ],
   "window_display": false
  }
 },
 "nbformat": 4,
 "nbformat_minor": 2
}
