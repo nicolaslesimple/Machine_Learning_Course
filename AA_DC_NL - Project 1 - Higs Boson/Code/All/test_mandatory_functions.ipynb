{
 "cells": [
  {
   "cell_type": "code",
   "execution_count": 1,
   "metadata": {
    "collapsed": true
   },
   "outputs": [],
   "source": [
    "#produces exactly the same .csv predictions which you used in your best submission to the competition on Kaggle"
   ]
  },
  {
   "cell_type": "markdown",
   "metadata": {},
   "source": [
    "Loading and pre-processing data"
   ]
  },
  {
   "cell_type": "code",
   "execution_count": 2,
   "metadata": {
    "collapsed": true
   },
   "outputs": [],
   "source": [
    "#Load the data - uploading the content of the .csv file\n",
    "#from loadData import load_data,format_data,load_data_y,format_data_y\n",
    "import numpy as np\n",
    "from implementations import *\n",
    "import matplotlib.pyplot as plt\n",
    "from proj1_helpers import *\n",
    "\n",
    "#COMMENTS: \n",
    "#- one can also chose \"*\" to import all the functions in the file. \n",
    "#- loadData has to be a \".py\" file. Jupiter notebook do not work. "
   ]
  },
  {
   "cell_type": "code",
   "execution_count": 3,
   "metadata": {
    "collapsed": true
   },
   "outputs": [],
   "source": [
    "def std(x):\n",
    "    \"\"\"Standardize the original data set.\"\"\"\n",
    "    mean_x = np.mean(x)\n",
    "    x = x - mean_x\n",
    "    std_x = np.std(x)\n",
    "    x = x / std_x\n",
    "    return x"
   ]
  },
  {
   "cell_type": "code",
   "execution_count": 4,
   "metadata": {
    "collapsed": true
   },
   "outputs": [],
   "source": [
    "log_flag=True"
   ]
  },
  {
   "cell_type": "code",
   "execution_count": 5,
   "metadata": {
    "collapsed": true
   },
   "outputs": [],
   "source": [
    "_,x_test,ids = load_csv_data(\"test.csv\", sub_sample=True);\n",
    "y_train,x_train,_ = load_csv_data(\"train.csv\", sub_sample=True); #Change flag to True for Logistic Regression\n",
    "x_train = std(x_train)\n",
    "x_test = std(x_test)"
   ]
  },
  {
   "cell_type": "code",
   "execution_count": 6,
   "metadata": {
    "collapsed": true
   },
   "outputs": [],
   "source": [
    "PCA_flag=False"
   ]
  },
  {
   "cell_type": "code",
   "execution_count": 7,
   "metadata": {
    "collapsed": true,
    "scrolled": false
   },
   "outputs": [],
   "source": [
    "if(PCA_flag):\n",
    "    eig_val, eig_vec, j = PCA(x_train)\n",
    "    print(eig_val)\n",
    "    plt.plot(eig_val)\n",
    "    plt.xlabel('dataset feature')\n",
    "    plt.ylabel('variance percentage')\n",
    "    plt.savefig('PCA.png')\n",
    "    plt.show()\n",
    "    x_train= x_train.dot(eig_vec)\n",
    "    j"
   ]
  },
  {
   "cell_type": "markdown",
   "metadata": {},
   "source": [
    "GD Algorithm MSE"
   ]
  },
  {
   "cell_type": "code",
   "execution_count": 8,
   "metadata": {
    "collapsed": true
   },
   "outputs": [],
   "source": [
    "#parameters\n",
    "max_iter = 100\n",
    "gamma=[0.00008,0.00009,0.0001,0.0002,0.0003]\n",
    "n_GD=int(len(gamma))\n",
    "\n",
    "# Initialization\n",
    "w_initial = np.ones(np.asarray(x_train).shape[1])\n",
    "GD_loss = []\n",
    "\n",
    "#apply gradient descent algorithm\n",
    "for i in range(n_GD):\n",
    "    ws = w_initial  # initiate weights\n",
    "    for n_iter in range(max_iter):\n",
    "        gradient = -((1/len(y_train))*(np.dot(np.transpose(x_train), y_train - np.dot(x_train,ws))))\n",
    "        # update w by gradient\n",
    "        ws = ws - gamma[i] * gradient  # updates the new weights\n",
    "\n",
    "    loss = compute_loss(y_train, x_train, ws)\n",
    "    GD_loss.append(loss)"
   ]
  },
  {
   "cell_type": "code",
   "execution_count": 9,
   "metadata": {},
   "outputs": [
    {
     "data": {
      "image/png": "[encoded data removed]",
      "text/plain": [
       "<matplotlib.figure.Figure at 0x113ce44e0>"
      ]
     },
     "metadata": {},
     "output_type": "display_data"
    }
   ],
   "source": [
    "plt.figure()\n",
    "plt.plot(GD_loss)\n",
    "plt.show()"
   ]
  },
  {
   "cell_type": "markdown",
   "metadata": {},
   "source": [
    "SGD MSE "
   ]
  },
  {
   "cell_type": "code",
   "execution_count": 10,
   "metadata": {
    "collapsed": true
   },
   "outputs": [],
   "source": [
    "#parameters\n",
    "max_iters = 200\n",
    "gamma=[0.00008,0.00009,0.0001,0.0002,0.0003]\n",
    "n_GD=int(len(gamma))\n",
    "batch_size = 50\n",
    "\n",
    "# Initialization\n",
    "w_initial = np.ones(x_train.shape[1])\n",
    "SGD_loss=[]\n",
    "\n",
    "#apply gradient descent algorithm\n",
    "for i in range(n_GD):\n",
    "    w = w_initial\n",
    "    for n_iter in range(max_iters):\n",
    "        for minibatch_y, minibatch_tx in batch_iter(y_train, x_train, batch_size, num_batches=1):\n",
    "            gradient = compute_gradient(minibatch_y, minibatch_tx, w)\n",
    "            # update w by gradient\n",
    "            w = w - gamma[i] * gradient  # computes the new w(t+1)\n",
    "\n",
    "    loss = compute_loss(y_train, x_train, w)\n",
    "    SGD_loss.append(loss)"
   ]
  },
  {
   "cell_type": "code",
   "execution_count": 11,
   "metadata": {},
   "outputs": [
    {
     "data": {
      "image/png": "[encoded data removed]",
      "text/plain": [
       "<matplotlib.figure.Figure at 0x138c9cbe0>"
      ]
     },
     "metadata": {},
     "output_type": "display_data"
    }
   ],
   "source": [
    "plt.figure()\n",
    "plt.plot(SGD_loss)\n",
    "plt.show()"
   ]
  },
  {
   "cell_type": "markdown",
   "metadata": {},
   "source": [
    "LS MSE"
   ]
  },
  {
   "cell_type": "code",
   "execution_count": 12,
   "metadata": {},
   "outputs": [
    {
     "data": {
      "text/plain": [
       "0.32544851801767666"
      ]
     },
     "execution_count": 12,
     "metadata": {},
     "output_type": "execute_result"
    }
   ],
   "source": [
    "LS_ws, LS_loss = least_squares(y_train, x_train)\n",
    "LS_loss"
   ]
  },
  {
   "cell_type": "code",
   "execution_count": 13,
   "metadata": {
    "collapsed": true
   },
   "outputs": [],
   "source": [
    "LS_y=predict_labels(LS_ws,x_test)"
   ]
  },
  {
   "cell_type": "markdown",
   "metadata": {},
   "source": [
    "RR MSE"
   ]
  },
  {
   "cell_type": "code",
   "execution_count": 14,
   "metadata": {},
   "outputs": [
    {
     "data": {
      "text/plain": [
       "0.37151046409104949"
      ]
     },
     "execution_count": 14,
     "metadata": {},
     "output_type": "execute_result"
    }
   ],
   "source": [
    "lambda_=[0.005,0.01,0.05,0.1,0.5,1,2,3,5,6,8,10,20,30,40,50,100]\n",
    "#lambda_=[0.00008,0.00009,0.0001,0.0002,0.0003]\n",
    "n_RR=int(len(lambda_))\n",
    "error=[]\n",
    "\n",
    "for i in range(n_RR):\n",
    "    RR_ws, RR_loss = ridge_regression(y_train,x_train,lambda_[i])\n",
    "    error.append(RR_loss)\n",
    "    \n",
    "\n",
    "data = np.asarray(error)\n",
    "min(data)"
   ]
  },
  {
   "cell_type": "code",
   "execution_count": 15,
   "metadata": {
    "collapsed": true,
    "scrolled": true
   },
   "outputs": [],
   "source": [
    "RR_y=predict_labels(RR_ws,x_test)"
   ]
  },
  {
   "cell_type": "markdown",
   "metadata": {
    "collapsed": true
   },
   "source": [
    "LR_MSE"
   ]
  },
  {
   "cell_type": "code",
   "execution_count": 16,
   "metadata": {},
   "outputs": [
    {
     "data": {
      "image/png": "[encoded data removed]",
      "text/plain": [
       "<matplotlib.figure.Figure at 0x130f95400>"
      ]
     },
     "metadata": {},
     "output_type": "display_data"
    }
   ],
   "source": [
    "#parameters\n",
    "max_iters = 500\n",
    "gamma=[0.05, 0.1,0.15,0.2]\n",
    "n_LR=int(len(gamma))\n",
    "\n",
    "# Initialization\n",
    "w_initial = np.ones(x_train.shape[1])\n",
    "data = []\n",
    "\n",
    "#apply Logistic Regression algorithm\n",
    "for i in range(n_LR):\n",
    "    LR_ws, LR_loss = logistic_regression(y_train, x_train, w_initial, max_iters, gamma[i])\n",
    "    data.append(LR_loss)\n",
    "        \n",
    "        \n",
    "plt.figure()\n",
    "plt.plot(data)\n",
    "plt.show()"
   ]
  },
  {
   "cell_type": "code",
   "execution_count": null,
   "metadata": {
    "collapsed": true
   },
   "outputs": [],
   "source": []
  }
 ],
 "metadata": {
  "kernelspec": {
   "display_name": "Python 3",
   "language": "python",
   "name": "python3"
  },
  "language_info": {
   "codemirror_mode": {
    "name": "ipython",
    "version": 3
   },
   "file_extension": ".py",
   "mimetype": "text/x-python",
   "name": "python",
   "nbconvert_exporter": "python",
   "pygments_lexer": "ipython3",
   "version": "3.6.1"
  }
 },
 "nbformat": 4,
 "nbformat_minor": 2
}
